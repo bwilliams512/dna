{
 "cells": [
  {
   "cell_type": "code",
   "execution_count": 1,
   "id": "c1b426b6",
   "metadata": {
    "scrolled": true
   },
   "outputs": [],
   "source": [
    "\"\"\"\n",
    "This project involves some DNA analysis for a fictional crime investigation.\n",
    "\n",
    "Case Information:\n",
    "Three suspects were apprehended by authorites. One of which is believed to be an international spy.\n",
    "The only evidence is some surveillance video and a small DNA sample retrieved from a computer keyboard.\n",
    "Each suspect has submitted a DNA sample.\n",
    "Use the DNA sample retrieved from crime scene and the three DNA samples from the suspects\n",
    "to determine the spy everyone is looking for.\n",
    "\"\"\"\n",
    "\n",
    "sample = ['GTA','GGG','CAC']\n",
    "\n",
    "# create a method that will read a suspect's DNA sample and add the file's content to an empty string\n",
    "def read_dna(dna_file):\n",
    "  dna_data = \"\"\n",
    "  with open(dna_file, \"r\") as f:\n",
    "    for line in f:\n",
    "      dna_data += line\n",
    "  return dna_data\n",
    "\n",
    "# create a method that will iterate through a string, slice it into smaller strings that are three letters long, and add them to a list\n",
    "def dna_codons(dna):\n",
    "  codons = []\n",
    "  for i in range(0, len(dna), 3):\n",
    "    if (i + 3) < len(dna):\n",
    "      # i starts at 0. We add dna[0:3], which adds only the first three characters of a string\n",
    "      codons.append(dna[i:i + 3])\n",
    "  return codons\n",
    "\n",
    "# create a method that will iterate through a suspect’s codon list to see how many of her codons match the sample codons\n",
    "def match_dna(dna):\n",
    "  matches = 0\n",
    "  # iterate through the codons in the suspect DNA's list to see if the codon also exists in the sample\n",
    "  for codon in dna:\n",
    "    # there is a single match if a codon in the DNA matches a codon in the sample\n",
    "    if codon in sample:\n",
    "      matches += 1\n",
    "  return matches\n",
    "\n",
    "# create a method to determine if a suspect offers enough to continue investigation\n",
    "def is_criminal(dna_sample):\n",
    "  # create a string to hold DNA samples\n",
    "  dna_data = read_dna(dna_sample)\n",
    "  # create a codon list from the chopped string \n",
    "  codons = dna_codons(dna_data)\n",
    "  # match the sample with the DNA\n",
    "  num_matches = match_dna(codons)\n",
    "  # see if the number of matches is significant\n",
    "  if num_matches >= 3:\n",
    "    print(\"Number of codon matches: %s. DNA profile matches. Continue investigation.\" % num_matches)\n",
    "  else:\n",
    "    print(\"Number of codon matches: %s. DNA profile matches. Suspect cleared.\" % num_matches)\n",
    "      \n",
    "      \n",
    "# call is_criminal() on the .txt files to find out who the spy is\n",
    "# uncomment code below\n",
    "#is_criminal('suspect1.txt')\n",
    "#is_criminal('suspect2.txt')\n",
    "#is_criminal('suspect3.txt')\n"
   ]
  },
  {
   "cell_type": "code",
   "execution_count": null,
   "id": "6966ec43",
   "metadata": {},
   "outputs": [],
   "source": []
  }
 ],
 "metadata": {
  "kernelspec": {
   "display_name": "Python 3",
   "language": "python",
   "name": "python3"
  },
  "language_info": {
   "codemirror_mode": {
    "name": "ipython",
    "version": 3
   },
   "file_extension": ".py",
   "mimetype": "text/x-python",
   "name": "python",
   "nbconvert_exporter": "python",
   "pygments_lexer": "ipython3",
   "version": "3.8.8"
  }
 },
 "nbformat": 4,
 "nbformat_minor": 5
}
